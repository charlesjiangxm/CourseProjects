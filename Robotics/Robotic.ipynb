{
 "cells": [
  {
   "cell_type": "code",
   "execution_count": 7,
   "metadata": {
    "scrolled": false
   },
   "outputs": [
    {
     "name": "stderr",
     "output_type": "stream",
     "text": [
      "/home/jjiangan/anaconda3/lib/python3.6/site-packages/sklearn/utils/validation.py:761: DataConversionWarning: A column-vector y was passed when a 1d array was expected. Please change the shape of y to (n_samples, ), for example using ravel().\n",
      "  y = column_or_1d(y, warn=True)\n"
     ]
    },
    {
     "name": "stdout",
     "output_type": "stream",
     "text": [
      "training score 1.0\n"
     ]
    },
    {
     "data": {
      "image/png": "[encoded data removed]",
      "text/plain": [
       "<Figure size 432x288 with 1 Axes>"
      ]
     },
     "metadata": {
      "needs_background": "light"
     },
     "output_type": "display_data"
    },
    {
     "name": "stdout",
     "output_type": "stream",
     "text": [
      "[2] is detected [1.48120964e-03 1.56959366e-03 9.91953521e-01 5.58385131e-06\n",
      " 4.99009201e-03]\n"
     ]
    }
   ],
   "source": [
    "from sklearn.linear_model import LogisticRegression\n",
    "import numpy as np\n",
    "import cv2\n",
    "import matplotlib.pyplot as plt\n",
    "\n",
    "\n",
    "def read_images_one(index):\n",
    "    # read in images and reshape to (100, 100)\n",
    "    image_name = 'picture/pic00' + str(index+1) + '.jpg'\n",
    "    image = cv2.imread(image_name, 1)\n",
    "    image = cv2.resize(image, (100,100))\n",
    "    \n",
    "    # make boarder\n",
    "    image = cv2.copyMakeBorder(image,100,100,100,100,\n",
    "                               cv2.BORDER_CONSTANT,\n",
    "                               value=[200,200,200])\n",
    "    image = cv2.resize(image, (512,512))\n",
    "    \n",
    "    # convert to gray and reshape\n",
    "    image = cv2.cvtColor(image,cv2.COLOR_BGR2GRAY)\n",
    "    \n",
    "    return image\n",
    "    \n",
    "    \n",
    "def read_images():\n",
    "    train = []\n",
    "    label = []\n",
    "\n",
    "    for i in range(5):\n",
    "        # read in the image and reshape to 100,100\n",
    "        image_name = 'picture/pic00' + str(i+1) + '.jpg'\n",
    "        image = cv2.imread(image_name, 0)\n",
    "        image = cv2.resize(image, (100, 100))\n",
    "        \n",
    "        # reshape the training data\n",
    "        train.append(np.array(image).reshape(-1))\n",
    "        label.append(i)\n",
    "        \n",
    "    train = np.vstack(train)\n",
    "    label = np.vstack(label)\n",
    "\n",
    "    return train, label\n",
    "\n",
    "\n",
    "def regression(train, label):\n",
    "    clf = LogisticRegression(random_state=0, solver='lbfgs',\n",
    "                             multi_class='multinomial')\n",
    "    \n",
    "    # perform training \n",
    "    clf.fit(train, label)\n",
    "    \n",
    "    # perform testing\n",
    "    print(\"training score\", clf.score(train, label))\n",
    "    \n",
    "    return clf\n",
    "\n",
    "\n",
    "def detection(clf, index):\n",
    "    # read in a picture, padding and convert to gray scale\n",
    "    image = read_images_one(index)\n",
    "    plt.imshow(image, 'gray')\n",
    "    plt.show()\n",
    "        \n",
    "    # sliding window detection  \n",
    "    stepSize = 10\n",
    "    windowSize = (100, 100)\n",
    "    for y in range(0, image.shape[0], stepSize):\n",
    "        for x in range(0, image.shape[1], stepSize):\n",
    "            slide_win = image[y:y + windowSize[1], x:x + windowSize[0]]          \n",
    "            \n",
    "            if slide_win.shape == (100,100):\n",
    "                test_img = np.array(slide_win).reshape(1,10000)\n",
    "                result = clf.predict(test_img)\n",
    "                prob_all = clf.predict_proba(test_img)[0]\n",
    "                \n",
    "                \n",
    "            if result!=-1 and prob_all[result]/sum(prob_all) > 0.99:\n",
    "                print(\"{} is detected {}\".format(result, prob_all))\n",
    "        \n",
    "    return result\n",
    "                \n",
    "\n",
    "if __name__=='__main__':\n",
    "    train, label = read_images()\n",
    "    clf = regression(train, label)\n",
    "    detection(clf, 0)\n",
    "    "
   ]
  },
  {
   "cell_type": "code",
   "execution_count": null,
   "metadata": {},
   "outputs": [],
   "source": []
  }
 ],
 "metadata": {
  "kernelspec": {
   "display_name": "Python 3",
   "language": "python",
   "name": "python3"
  },
  "language_info": {
   "codemirror_mode": {
    "name": "ipython",
    "version": 3
   },
   "file_extension": ".py",
   "mimetype": "text/x-python",
   "name": "python",
   "nbconvert_exporter": "python",
   "pygments_lexer": "ipython3",
   "version": "3.6.8"
  }
 },
 "nbformat": 4,
 "nbformat_minor": 2
}
